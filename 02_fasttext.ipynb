{
 "cells": [
  {
   "cell_type": "code",
   "execution_count": null,
   "outputs": [],
   "source": "# pip install tqdm nltk gensim razdel pymorphy2",
   "metadata": {
    "collapsed": false
   },
   "id": "74d7fb82ca6127d0"
  },
  {
   "cell_type": "code",
   "id": "initial_id",
   "metadata": {
    "collapsed": true,
    "ExecuteTime": {
     "end_time": "2024-04-12T16:27:39.032478Z",
     "start_time": "2024-04-12T16:27:39.022479Z"
    }
   },
   "source": [
    "import multiprocessing as mpr\n",
    "import os\n",
    "import re\n",
    "import string\n",
    "from copy import copy\n",
    "from typing import Iterable, Union, List\n",
    "\n",
    "import pymorphy2\n",
    "from gensim.models import FastText\n",
    "from nltk.corpus import stopwords\n",
    "from razdel import sentenize, tokenize\n",
    "from tqdm import tqdm"
   ],
   "outputs": [],
   "execution_count": 62
  },
  {
   "metadata": {},
   "cell_type": "markdown",
   "source": "Тут взяты кусочки из иного проекта, я попытался где-то упростить, но в таком виде работать будет хорошо. И потом еще и проще в сервис обернуть",
   "id": "111dc815504e8d33"
  },
  {
   "metadata": {
    "ExecuteTime": {
     "end_time": "2024-04-12T16:15:37.774263Z",
     "start_time": "2024-04-12T16:15:37.767262Z"
    }
   },
   "cell_type": "code",
   "source": [
    "N_CORES = mpr.cpu_count()\n",
    "\n",
    "fasttext_lowercase_train_config = {\n",
    "    \"language\": \"russian\",\n",
    "    \"remove_stopwords\": True,\n",
    "    \"remove_numbers\": True,\n",
    "    \"remove_punctuations\": True,\n",
    "    \"remove_extra_spaces\": True,\n",
    "    \"lowercase\": True,\n",
    "    \"lemmatization\": True,\n",
    "    # model training config\n",
    "    \"model\": FastText,\n",
    "    \"epochs\": 10,\n",
    "    \"model_params\": {\n",
    "        \"vector_size\": 100,\n",
    "        \"window\": 5,\n",
    "        \"min_count\": 1,\n",
    "        \"workers\": N_CORES - 1\n",
    "    }\n",
    "}\n"
   ],
   "id": "f65c074a464f5f5c",
   "outputs": [],
   "execution_count": 46
  },
  {
   "metadata": {
    "ExecuteTime": {
     "end_time": "2024-04-12T15:34:07.255830Z",
     "start_time": "2024-04-12T15:34:07.231832Z"
    }
   },
   "cell_type": "code",
   "source": [
    "class TextPreprocessor:\n",
    "    \"\"\"\n",
    "    Class for text preprocessing\n",
    "    \"\"\"\n",
    "\n",
    "    # config key-names\n",
    "    REMOVE_PUNCTUATIONS = \"remove_punctuations\"\n",
    "    REMOVE_NUMBERS = \"remove_numbers\"\n",
    "    REMOVE_STOPWORDS = \"remove_stopwords\"\n",
    "    CUSTOM_STOPWORDS = \"custom_stopwords\"\n",
    "    REMOVE_EXTRA_SPACES = \"remove_extra_spaces\"\n",
    "    LOWERCASE = \"lowercase\"\n",
    "    LEMMATIZATION = \"lemmatization\"\n",
    "    YO_REPLACEMENT = \"yo_replacement\"\n",
    "    ONLY_LETTERS = \"only_letters\"\n",
    "\n",
    "    def __init__(self, config: dict):\n",
    "        self.language = \"russian\"\n",
    "        \n",
    "        self.no_stopwords = config.get(self.REMOVE_STOPWORDS, False)\n",
    "        self.custom_stopwords = config.get(self.CUSTOM_STOPWORDS, list())\n",
    "        self.no_numbers = config.get(self.REMOVE_NUMBERS, True)\n",
    "        self.no_punctuations = config.get(self.REMOVE_PUNCTUATIONS, True)\n",
    "        self.no_extra_spaces = config.get(self.REMOVE_EXTRA_SPACES, True)\n",
    "        self.lower_text = config.get(self.LOWERCASE, True)\n",
    "        self.lemmatize = config.get(self.LEMMATIZATION, False)\n",
    "        self.yo_replacement = config.get(self.YO_REPLACEMENT, True)\n",
    "        self.only_letters = config.get(self.ONLY_LETTERS, False)\n",
    "\n",
    "        self.nlp_model = pymorphy2.MorphAnalyzer()\n",
    "\n",
    "        if self.no_stopwords:\n",
    "            self.stopwords = set(stopwords.words(self.language) + self.custom_stopwords)\n",
    "\n",
    "    @staticmethod\n",
    "    def remove_extra_spaces(text: Union[str, List[str]]) -> Union[str, List[str]]:\n",
    "        def _remove_extra_spaces(string):\n",
    "            return re.sub(r\"\\s{2,}\", \" \", string).strip()\n",
    "\n",
    "        if isinstance(text, str):\n",
    "            return _remove_extra_spaces(text)\n",
    "        if isinstance(text, Iterable):\n",
    "            return [_remove_extra_spaces(token) for token in text]\n",
    "        raise TypeError(f\"Type {type(text)} is not supported.\")\n",
    "\n",
    "    @staticmethod\n",
    "    def remove_empty_tokens(text: Union[str, List[str]]):\n",
    "        if isinstance(text, str):\n",
    "            return text\n",
    "\n",
    "        return [\n",
    "            token\n",
    "            for token in text\n",
    "            if re.sub(r\"\\s+\", \" \", token, re.IGNORECASE).strip() != \"\"\n",
    "        ]\n",
    "\n",
    "    @staticmethod\n",
    "    def remove_numbers(text: Union[str, List[str]]) -> Union[str, List[str]]:\n",
    "        def _remove_numbers(string):\n",
    "            return re.sub(r\"\\d+\\w*\", \"\", string)\n",
    "\n",
    "        if isinstance(text, str):\n",
    "            return _remove_numbers(text)\n",
    "        if isinstance(text, Iterable):\n",
    "            return [_remove_numbers(token) for token in text]\n",
    "        raise TypeError(f\"Type {type(text)} is not supported.\")\n",
    "\n",
    "    @staticmethod\n",
    "    def remove_punctuations(text: Union[str, List[str]]) -> Union[str, List[str]]:\n",
    "        def _remove_punctuations(str_text):\n",
    "            return re.sub(\n",
    "                \"[%s]\" % re.escape(string.punctuation + \"№«»’·⋅…\"), \" \", str_text\n",
    "            )\n",
    "\n",
    "        if isinstance(text, str):\n",
    "            return _remove_punctuations(text)\n",
    "        if isinstance(text, Iterable):\n",
    "            return [_remove_punctuations(token) for token in text]\n",
    "        raise TypeError(f\"Type {type(text)} is not supported.\")\n",
    "\n",
    "    @staticmethod\n",
    "    def make_text_lower(text: Union[str, Iterable[str]]) -> Union[str, Iterable[str]]:\n",
    "        if isinstance(text, str):\n",
    "            return text.lower()\n",
    "        if isinstance(text, Iterable):\n",
    "            return [token.lower() for token in text]\n",
    "        raise TypeError(f\"Type {type(text)} is not supported.\")\n",
    "\n",
    "    @staticmethod\n",
    "    def replace_yo(text: Union[str, Iterable[str]]) -> Union[str, Iterable[str]]:\n",
    "        if isinstance(text, str):\n",
    "            return text.replace(\"ё\", \"е\").replace(\"Ё\", \"Е\")\n",
    "        if isinstance(text, Iterable):\n",
    "            return [token.replace(\"ё\", \"е\").replace(\"Ё\", \"Е\") for token in text]\n",
    "        raise TypeError(f\"Type {type(text)} is not supported.\")\n",
    "\n",
    "    def remove_stopwords(\n",
    "        self, text: Union[str, Iterable[str]]\n",
    "    ) -> Union[str, Iterable[str]]:\n",
    "        raw_text = copy(text)\n",
    "        if isinstance(text, str):\n",
    "            raw_text = text.split()\n",
    "\n",
    "        try:\n",
    "            text_without_stopwords = []\n",
    "            for word in raw_text:\n",
    "                word = word.lower()\n",
    "                if word not in self.stopwords and len(word) > 2:\n",
    "                    text_without_stopwords.append(word)\n",
    "\n",
    "            return (\n",
    "                text_without_stopwords\n",
    "                if not isinstance(text, str)\n",
    "                else \" \".join(text_without_stopwords)\n",
    "            )\n",
    "\n",
    "        except AttributeError:\n",
    "            print(\n",
    "                \"To remove stopwords - configuration of 'remove_stopwords' is required!\"\n",
    "            )\n",
    "            return text\n",
    "\n",
    "    @staticmethod\n",
    "    def remove_all_except_letters(text: Union[str, Iterable[str]]):\n",
    "        if isinstance(text, str):\n",
    "            return re.sub(\"[^A-Za-zА-Яа-я]+\", \" \", text)\n",
    "        if isinstance(text, Iterable):\n",
    "            return [re.sub(\"[^A-Za-zА-Яа-я]+\", \" \", token) for token in text]\n",
    "        raise TypeError(f\"Type {type(text)} is not supported.\")\n",
    "\n",
    "    def text_cleaning(\n",
    "        self, text: Union[str, Iterable[str]]\n",
    "    ) -> Union[str, Iterable[str]]:\n",
    "        assert isinstance(text, str) or isinstance(\n",
    "            text, Iterable\n",
    "        ), f\"{'Input text must be string or iterable, not'} {type(text)}\"\n",
    "\n",
    "        text = self.make_text_lower(text) if self.lower_text else text\n",
    "        text = self.replace_yo(text) if self.yo_replacement else text\n",
    "        text = self.remove_numbers(text) if self.no_numbers else text\n",
    "        text = self.remove_punctuations(text) if self.no_punctuations else text\n",
    "        text = self.remove_all_except_letters(text) if self.only_letters else text\n",
    "        text = self.remove_extra_spaces(text) if self.no_extra_spaces else text\n",
    "        text = self.remove_empty_tokens(text)\n",
    "        text = self.remove_stopwords(text) if self.no_stopwords else text\n",
    "        text = self.text_lemmatization(text) if self.lemmatize else text\n",
    "\n",
    "        return text\n",
    "\n",
    "    def _russian_lemmatization(self, text: Union[str, Iterable[str]]) -> Iterable[str]:\n",
    "        def lemmatize(word):\n",
    "            return self.nlp_model.parse(word)[0].normal_form\n",
    "\n",
    "        if isinstance(text, str):\n",
    "            text = text.split()\n",
    "\n",
    "        return [lemmatize(word) for word in text]\n",
    "\n",
    "    def _english_lemmatization(self, text: Union[str, Iterable[str]]) -> Iterable[str]:\n",
    "        if not isinstance(text, str):\n",
    "            text = \" \".join(text)\n",
    "\n",
    "        return [token.lemma_ for token in self.nlp_model(text)]\n",
    "\n",
    "    def text_lemmatization(\n",
    "        self, text: Union[str, Iterable[str]]\n",
    "    ) -> Union[str, Iterable[str]]:\n",
    "        if self.language == \"russian\":\n",
    "            lemmas = self._russian_lemmatization(text=text)\n",
    "        elif self.language == \"english\":\n",
    "            lemmas = self._english_lemmatization(text=text)\n",
    "        else:\n",
    "            raise NotImplementedError(\"Only russian and english are available.\")\n",
    "\n",
    "        return \" \".join(lemmas) if isinstance(text, str) else lemmas"
   ],
   "id": "1ad99dce45626648",
   "outputs": [],
   "execution_count": 34
  },
  {
   "metadata": {},
   "cell_type": "markdown",
   "source": "Вот как примерно оно работает",
   "id": "d2a09607141d05e6"
  },
  {
   "metadata": {
    "ExecuteTime": {
     "end_time": "2024-04-12T15:34:08.489521Z",
     "start_time": "2024-04-12T15:34:08.351519Z"
    }
   },
   "cell_type": "code",
   "source": "PREPROCESSOR = TextPreprocessor(fasttext_lowercase_train_config)",
   "id": "2edb323472266133",
   "outputs": [],
   "execution_count": 35
  },
  {
   "metadata": {
    "ExecuteTime": {
     "end_time": "2024-04-12T15:34:26.898036Z",
     "start_time": "2024-04-12T15:34:26.887035Z"
    }
   },
   "cell_type": "code",
   "source": "PREPROCESSOR.text_cleaning(\"Черная металлургия всегда была и останется основой всей металлургии.\")",
   "id": "2559464a825b49c4",
   "outputs": [
    {
     "data": {
      "text/plain": [
       "'чёрный металлургия остаться основа весь металлургия'"
      ]
     },
     "execution_count": 36,
     "metadata": {},
     "output_type": "execute_result"
    }
   ],
   "execution_count": 36
  },
  {
   "metadata": {
    "ExecuteTime": {
     "end_time": "2024-04-12T16:10:57.552210Z",
     "start_time": "2024-04-12T16:10:57.535211Z"
    }
   },
   "cell_type": "code",
   "source": [
    "article = \"\"\"\n",
    "Черная металлургия всегда была и останется основой всей металлургии. Железо, которое является готовой продукцией отрасли, известное нам как чугун, сталь и прокат из нее навсегда останутся массовым материалом потребления во всем мировом хозяйстве. Металл давно вытеснил из строительной индустрии древесину, соперничая лишь с цементом, иногда объединяясь с ним в союз – железобетон. Конечно, строительный мир не стоит на одном месте, и сейчас активно внедряется в строительство такие материалы, как полимер и керамика. Однако, пока что, железо не собирается сдавать свои позиции и держится на торговом рынке лидером продаж.\n",
    "Говоря о металлургии XXI века, стоит отметить то, что до начала XX века она была очень слабо развита. Основными странами-поставщиками металла на рынок в начале XX века являлись США, Великобритания, Германия и Бельгия. Эти страны поставляли на рынок металлов более 83% от всего товара на рынке. Со временем, после Второй мировой войны, началось активное освоение металлургического комплекса рядом развитых и развивающихся стран. В последнее время мы отчетливо видим тенденция перемещения производства черных металлов из развитых стран в развивающиеся.\n",
    "География черной металлургииЧерные металлы применяются во многих областях промышленности, но больше всего особым спросом они пользуются в машиностроительной промышленности. Металлы сами по себе предоставляют возможности для своего эффективного использования, при этом расширяя их, в частности благодаря покрытию стальных изделий полимерными пленками и металлами (цинком и оловом), что повышает устойчивость их иммунитета к коррозии.\n",
    "Черная металлургия сильно зависит от многих других отраслей народного хозяйства. Ее сырьевая база — продукция горнодобывающей промышленности (железная руда, известняки, огнеупоры), топливной (коксующийся уголь, природный газ) и электроэнергетика.\n",
    "Кроме этого, цветная металлургия – смежная черной металлургии, обеспечивает ее поставкой легируюших компонентов необходимых для разнообразных сплавов. Народное хозяйство является основным инструментом получения лома и других отходов для их вторичного использования в металлургических переделах.\n",
    "ПО технологическому процессу производства черная металлургия имеет тесные связи с некоторыми разновидностями химического производства: коксованием угля, использованием кислорода и ряда инертных газов в процессах плавки материалов и т.д. С транспортной инфраструктурой черную металлургию связывает использование больших объемов сырья, получения готовой продукции и полуфабрикатов.\n",
    "Производство черных металлов, их добыча и переработка сырья составляют большую опасность для экологии. Выброс газов в атмосферу и загрязнение водоемов – это еще не верхушка айсберга. Большим ударом для экосистемы является наличие отходов от производства, причем отходы невозможно утилизировать. Так самыми вредными отходами являются: канцерогены коксохимического процесса, доменные выбросы, газы и пыль при агломерировании руды, конвертерного и других плавильных агрегатов, шлаки всех металлургических переделов.\n",
    "В процессе производств используется большое количество воды, температура после ее участия в металлургических процессах изменяется и таким образом, попадание в эту воду отходов промышленности приводит к химическому и температурному нарушению режима естественных источников водоснабжения.\n",
    "На сегодняшний день, с экономической точки зрения, черная металлургия является одной из малодоходных отраслей обрабатывающей промышленности. Больших вложений капиталов требует развитие всех производств черной металлургии, что обусловлено технологией выпускаемой продукции – большими объемами производства, дороговизной оборудования, финансовыми затратами на его амортизацию и созданием огромной сети заводской инфраструктуры, отвечающей современным требованиям. Затраты предприятий на обеспечение экологической чистоты работы металлургического предприятия могут достигать до 20 % общих капиталовложений.\n",
    "\"\"\""
   ],
   "id": "352bc04119203282",
   "outputs": [],
   "execution_count": 42
  },
  {
   "metadata": {},
   "cell_type": "markdown",
   "source": [
    "Вот это основная строчка, которая преобразует предложения.\n",
    "В итоге должен получится список списков (```list[list]```). Это структура, которая воспринимается fasttext."
   ],
   "id": "fb4a5e1b9e93e8e2"
  },
  {
   "metadata": {
    "ExecuteTime": {
     "end_time": "2024-04-12T16:15:51.120827Z",
     "start_time": "2024-04-12T16:15:51.097832Z"
    }
   },
   "cell_type": "code",
   "source": "sentences = [[x.text for x in tokenize(PREPROCESSOR.text_cleaning(sentence.text))] for sentence in sentenize(article)]",
   "id": "b080cf962ac7c459",
   "outputs": [],
   "execution_count": 48
  },
  {
   "metadata": {},
   "cell_type": "markdown",
   "source": "Статья для примера, тут все будет зависеть от вашей реализации: я бы, наверное, предложил что-то вроде:",
   "id": "a026676429be83f"
  },
  {
   "metadata": {
    "ExecuteTime": {
     "end_time": "2024-04-12T16:15:52.144954Z",
     "start_time": "2024-04-12T16:15:52.089955Z"
    }
   },
   "cell_type": "code",
   "source": [
    "articles = [\"\"\"\n",
    "Черная металлургия всегда была и останется основой всей металлургии. Железо, которое является готовой продукцией отрасли, известное нам как чугун, сталь и прокат из нее навсегда останутся массовым материалом потребления во всем мировом хозяйстве. Металл давно вытеснил из строительной индустрии древесину, соперничая лишь с цементом, иногда объединяясь с ним в союз – железобетон. Конечно, строительный мир не стоит на одном месте, и сейчас активно внедряется в строительство такие материалы, как полимер и керамика. Однако, пока что, железо не собирается сдавать свои позиции и держится на торговом рынке лидером продаж.\n",
    "Говоря о металлургии XXI века, стоит отметить то, что до начала XX века она была очень слабо развита. Основными странами-поставщиками металла на рынок в начале XX века являлись США, Великобритания, Германия и Бельгия. Эти страны поставляли на рынок металлов более 83% от всего товара на рынке. Со временем, после Второй мировой войны, началось активное освоение металлургического комплекса рядом развитых и развивающихся стран. В последнее время мы отчетливо видим тенденция перемещения производства черных металлов из развитых стран в развивающиеся.\"\"\",\n",
    "            \n",
    "\"\"\"География черной металлургииЧерные металлы применяются во многих областях промышленности, но больше всего особым спросом они пользуются в машиностроительной промышленности. Металлы сами по себе предоставляют возможности для своего эффективного использования, при этом расширяя их, в частности благодаря покрытию стальных изделий полимерными пленками и металлами (цинком и оловом), что повышает устойчивость их иммунитета к коррозии.\n",
    "Черная металлургия сильно зависит от многих других отраслей народного хозяйства. Ее сырьевая база — продукция горнодобывающей промышленности (железная руда, известняки, огнеупоры), топливной (коксующийся уголь, природный газ) и электроэнергетика.\n",
    "Кроме этого, цветная металлургия – смежная черной металлургии, обеспечивает ее поставкой легируюших компонентов необходимых для разнообразных сплавов. Народное хозяйство является основным инструментом получения лома и других отходов для их вторичного использования в металлургических переделах.\n",
    "ПО технологическому процессу производства черная металлургия имеет тесные связи с некоторыми разновидностями химического производства: коксованием угля, использованием кислорода и ряда инертных газов в процессах плавки материалов и т.д. С транспортной инфраструктурой черную металлургию связывает использование больших объемов сырья, получения готовой продукции и полуфабрикатов.\n",
    "Производство черных металлов, их добыча и переработка сырья составляют большую опасность для экологии. Выброс газов в атмосферу и загрязнение водоемов – это еще не верхушка айсберга. Большим ударом для экосистемы является наличие отходов от производства, причем отходы невозможно утилизировать. Так самыми вредными отходами являются: канцерогены коксохимического процесса, доменные выбросы, газы и пыль при агломерировании руды, конвертерного и других плавильных агрегатов, шлаки всех металлургических переделов.\n",
    "\"\"\",\n",
    "\"\"\"В процессе производств используется большое количество воды, температура после ее участия в металлургических процессах изменяется и таким образом, попадание в эту воду отходов промышленности приводит к химическому и температурному нарушению режима естественных источников водоснабжения.\n",
    "На сегодняшний день, с экономической точки зрения, черная металлургия является одной из малодоходных отраслей обрабатывающей промышленности. Больших вложений капиталов требует развитие всех производств черной металлургии, что обусловлено технологией выпускаемой продукции – большими объемами производства, дороговизной оборудования, финансовыми затратами на его амортизацию и созданием огромной сети заводской инфраструктуры, отвечающей современным требованиям. Затраты предприятий на обеспечение экологической чистоты работы металлургического предприятия могут достигать до 20 % общих капиталовложений.\n",
    "\"\"\"]\n",
    "\n",
    "sentences = []\n",
    "for article in tqdm(articles, desc=f\"{'Getting sentences'}\"):\n",
    "    sentences.extend(\n",
    "        [[x.text for x in tokenize(PREPROCESSOR.text_cleaning(sentence.text))] for sentence in sentenize(article)]\n",
    "    )"
   ],
   "id": "215657f33e4af1e1",
   "outputs": [
    {
     "name": "stderr",
     "output_type": "stream",
     "text": [
      "Getting sentences: 100%|██████████| 3/3 [00:00<00:00, 68.19it/s]\n"
     ]
    }
   ],
   "execution_count": 49
  },
  {
   "metadata": {},
   "cell_type": "markdown",
   "source": [
    "Тут определяем модель, по сути это аналог вот такой структуры:\n",
    "```python\n",
    "model = FastText(vector_size=100, window=5, min_count=1)\n",
    "```\n",
    "\n",
    "По документации можно тут посмотреть: https://radimrehurek.com/gensim/models/fasttext.html"
   ],
   "id": "dbbf676ea66dfa93"
  },
  {
   "metadata": {
    "ExecuteTime": {
     "end_time": "2024-04-12T16:20:04.362989Z",
     "start_time": "2024-04-12T16:20:04.344986Z"
    }
   },
   "cell_type": "code",
   "source": "model = fasttext_lowercase_train_config[\"model\"](**fasttext_lowercase_train_config[\"model_params\"])",
   "id": "9610c279b53c9d52",
   "outputs": [],
   "execution_count": 52
  },
  {
   "metadata": {},
   "cell_type": "markdown",
   "source": "Строим словарь",
   "id": "e22b9bf7755e5eec"
  },
  {
   "metadata": {
    "ExecuteTime": {
     "end_time": "2024-04-12T16:20:06.182228Z",
     "start_time": "2024-04-12T16:20:05.545851Z"
    }
   },
   "cell_type": "code",
   "source": "model.build_vocab(corpus_iterable=sentences)",
   "id": "f9df20fd3ea97738",
   "outputs": [],
   "execution_count": 53
  },
  {
   "metadata": {},
   "cell_type": "markdown",
   "source": "Учим модель. Проще учить по эпохам: так интереснее контролировать процесс",
   "id": "97fa00b6f6ae43b7"
  },
  {
   "cell_type": "code",
   "source": [
    "for epoch in range(fasttext_lowercase_train_config.get(\"epochs\")):\n",
    "    model.train(\n",
    "        corpus_iterable=tqdm(sentences, desc=\"Training model\"),\n",
    "        total_examples=len(sentences),\n",
    "        epochs=1,\n",
    "    )"
   ],
   "metadata": {
    "collapsed": false,
    "ExecuteTime": {
     "end_time": "2024-04-12T16:20:07.272248Z",
     "start_time": "2024-04-12T16:20:07.067519Z"
    }
   },
   "id": "49ac949e555e18cf",
   "outputs": [
    {
     "name": "stderr",
     "output_type": "stream",
     "text": [
      "\n",
      "Training model: 100%|██████████| 26/26 [00:00<00:00, 3249.07it/s]\n",
      "\n",
      "Training model: 100%|██████████| 26/26 [00:00<00:00, 3714.93it/s]\n",
      "\n",
      "Training model: 100%|██████████| 26/26 [00:00<00:00, 3249.75it/s]\n",
      "\n",
      "Training model: 100%|██████████| 26/26 [00:00<00:00, 4330.89it/s]\n",
      "\n",
      "Training model: 100%|██████████| 26/26 [00:00<00:00, 3714.18it/s]\n",
      "\n",
      "Training model: 100%|██████████| 26/26 [00:00<00:00, 3660.07it/s]\n",
      "\n",
      "Training model: 100%|██████████| 26/26 [00:00<00:00, 3716.20it/s]\n",
      "\n",
      "Training model: 100%|██████████| 26/26 [00:00<00:00, 4333.48it/s]\n",
      "\n",
      "Training model: 100%|██████████| 26/26 [00:00<00:00, 3249.94it/s]\n",
      "\n",
      "Training model: 100%|██████████| 26/26 [00:00<00:00, 3251.11it/s]\n"
     ]
    }
   ],
   "execution_count": 54
  },
  {
   "metadata": {},
   "cell_type": "markdown",
   "source": "Это словарь, который у вас соберется в процессе",
   "id": "952eacf3e3c39e1f"
  },
  {
   "cell_type": "code",
   "source": [
    "vocab = model.wv.key_to_index\n",
    "print(vocab)"
   ],
   "metadata": {
    "collapsed": false,
    "ExecuteTime": {
     "end_time": "2024-04-12T16:21:38.022529Z",
     "start_time": "2024-04-12T16:21:38.010532Z"
    }
   },
   "id": "ba45597ad422d568",
   "outputs": [
    {
     "name": "stdout",
     "output_type": "stream",
     "text": [
      "{'чёрный': 0, 'металлургия': 1, 'металл': 2, 'производство': 3, 'являться': 4, 'металлургический': 5, 'промышленность': 6, 'больший': 7, 'процесс': 8, 'отход': 9, 'страна': 10, 'рынок': 11, 'использование': 12, 'продукция': 13, 'хозяйство': 14, 'материал': 15, 'век': 16, 'отрасль': 17, 'газ': 18, 'другой': 19, 'начало': 20, 'выброс': 21, 'время': 22, 'сырьё': 23, 'свой': 24, 'вода': 25, 'объём': 26, 'химический': 27, 'инфраструктура': 28, 'развитой': 29, 'развивающийся': 30, 'один': 31, 'передел': 32, 'получение': 33, 'многий': 34, 'уголь': 35, 'руда': 36, 'народный': 37, 'такой': 38, 'основный': 39, 'мировой': 40, 'строительный': 41, 'предприятие': 42, 'железо': 43, 'затрата': 44, 'весь': 45, 'готовый': 46, 'остаться': 47, 'стоить': 48, 'навсегда': 49, 'металлургиичерный': 50, 'область': 51, 'известный': 52, 'мы': 53, 'применяться': 54, 'чугун': 55, 'массовый': 56, 'последний': 57, 'сталь': 58, 'отчётливо': 59, 'география': 60, 'особый': 61, 'перемещение': 62, 'тенденция': 63, 'видеть': 64, 'прокат': 65, 'машиностроительный': 66, 'спрос': 67, 'покрытие': 68, 'повышать': 69, 'олово': 70, 'основа': 71, 'цинк': 72, 'плёнка': 73, 'полимерный': 74, 'изделие': 75, 'стальной': 76, 'благодаря': 77, 'пользоваться': 78, 'частность': 79, 'расширять': 80, 'который': 81, 'эффективный': 82, 'возможность': 83, 'предоставлять': 84, 'сам': 85, 'рядом': 86, 'потребление': 87, 'место': 88, 'комплекс': 89, 'позиция': 90, 'отметить': 91, 'объединяться': 92, 'xxi': 93, 'говорить': 94, 'продажа': 95, 'лидер': 96, 'союз': 97, 'торговый': 98, 'держаться': 99, 'железобетон': 100, 'активно': 101, 'сдавать': 102, 'собираться': 103, 'пока': 104, 'однако': 105, 'мир': 106, 'керамика': 107, 'полимер': 108, 'строительство': 109, 'внедряться': 110, 'цемент': 111, 'очень': 112, 'слабо': 113, 'развить': 114, 'давно': 115, 'освоение': 116, 'вытеснить': 117, 'индустрия': 118, 'активный': 119, 'начаться': 120, 'война': 121, 'второй': 122, 'древесина': 123, 'товар': 124, 'соперничать': 125, 'поставлять': 126, 'бельгия': 127, 'германия': 128, 'великобритания': 129, 'сша': 130, 'поставщик': 131, 'лишь': 132, 'иммунитет': 133, 'устойчивость': 134, 'капиталовложение': 135, 'коррозия': 136, 'участие': 137, 'день': 138, 'сегодняшний': 139, 'водоснабжение': 140, 'источник': 141, 'естественный': 142, 'режим': 143, 'нарушение': 144, 'температурный': 145, 'приводить': 146, 'попадание': 147, 'образ': 148, 'изменяться': 149, 'температура': 150, 'сильно': 151, 'количество': 152, 'большой': 153, 'использоваться': 154, 'шлак': 155, 'агрегат': 156, 'плавильный': 157, 'конвертерный': 158, 'агломерирование': 159, 'пыль': 160, 'газа': 161, 'доменный': 162, 'коксохимический': 163, 'экономический': 164, 'точка': 165, 'зрение': 166, 'малодоходный': 167, 'достигать': 168, 'мочь': 169, 'работа': 170, 'чистота': 171, 'экологический': 172, 'обеспечение': 173, 'требование': 174, 'современный': 175, 'отвечать': 176, 'заводский': 177, 'сеть': 178, 'огромный': 179, 'создание': 180, 'амортизация': 181, 'финансовый': 182, 'оборудование': 183, 'дороговизна': 184, 'выпускать': 185, 'технология': 186, 'обусловить': 187, 'развитие': 188, 'требовать': 189, 'капитал': 190, 'вложение': 191, 'обрабатывать': 192, 'канцероген': 193, 'вредный': 194, 'самый': 195, 'тесный': 196, 'технологический': 197, 'вторичный': 198, 'лом': 199, 'инструмент': 200, 'сплав': 201, 'разнообразный': 202, 'необходимый': 203, 'компонент': 204, 'легируюший': 205, 'поставка': 206, 'обеспечивать': 207, 'смежный': 208, 'цветной': 209, 'кроме': 210, 'электроэнергетика': 211, 'природный': 212, 'коксоваться': 213, 'топливный': 214, 'огнеупор': 215, 'известняк': 216, 'общий': 217, 'горнодобывающий': 218, 'база': 219, 'сырьевой': 220, 'зависеть': 221, 'иметь': 222, 'связь': 223, 'утилизировать': 224, 'некоторый': 225, 'невозможно': 226, 'причём': 227, 'наличие': 228, 'экосистема': 229, 'удар': 230, 'айсберг': 231, 'верхушка': 232, 'это': 233, 'водоём': 234, 'загрязнение': 235, 'атмосфера': 236, 'экология': 237, 'опасность': 238, 'составлять': 239, 'переработка': 240, 'добыча': 241, 'полуфабрикат': 242, 'связывать': 243, 'транспортный': 244, 'плавка': 245, 'инертный': 246, 'ряд': 247, 'кислород': 248, 'коксование': 249, 'разновидность': 250, 'железный': 251}\n"
     ]
    }
   ],
   "execution_count": 55
  },
  {
   "metadata": {},
   "cell_type": "markdown",
   "source": "Потом модель нужно сохранить",
   "id": "b554e8eab86863ac"
  },
  {
   "metadata": {
    "ExecuteTime": {
     "end_time": "2024-04-12T16:28:23.467713Z",
     "start_time": "2024-04-12T16:28:22.752707Z"
    }
   },
   "cell_type": "code",
   "source": [
    "PATH_FOR_SAVING = \"models\"\n",
    "MODEL_NAME = \"fasttext_sample\"\n",
    "\n",
    "model_path = os.path.join(\n",
    "    PATH_FOR_SAVING,\n",
    "    MODEL_NAME + \".model\",\n",
    ")\n",
    "model.save(model_path)"
   ],
   "id": "e9ac05fa574fb919",
   "outputs": [],
   "execution_count": 64
  },
  {
   "metadata": {},
   "cell_type": "markdown",
   "source": "Ну и потом загрузить",
   "id": "5be91eb66827e04f"
  },
  {
   "metadata": {
    "ExecuteTime": {
     "end_time": "2024-04-12T16:35:37.734539Z",
     "start_time": "2024-04-12T16:35:37.553885Z"
    }
   },
   "cell_type": "code",
   "source": "model = FastText.load(model_path)",
   "id": "96663e2fe8672383",
   "outputs": [],
   "execution_count": 66
  },
  {
   "metadata": {},
   "cell_type": "markdown",
   "source": "Как искать синонимы",
   "id": "1eaeb45e4661e844"
  },
  {
   "cell_type": "code",
   "source": "model.wv.most_similar(\"плавка\")",
   "metadata": {
    "collapsed": false,
    "ExecuteTime": {
     "end_time": "2024-04-12T16:35:42.728701Z",
     "start_time": "2024-04-12T16:35:42.716702Z"
    }
   },
   "id": "bacb91d9b14220ce",
   "outputs": [
    {
     "data": {
      "text/plain": [
       "[('поставка', 0.482550710439682),\n",
       " ('пока', 0.41134727001190186),\n",
       " ('экономический', 0.39740726351737976),\n",
       " ('огромный', 0.38887518644332886),\n",
       " ('химический', 0.3745107352733612),\n",
       " ('коксохимический', 0.3730074465274811),\n",
       " ('позиция', 0.3715028762817383),\n",
       " ('затрата', 0.3702733516693115),\n",
       " ('область', 0.3686293363571167),\n",
       " ('инфраструктура', 0.3623194396495819)]"
      ]
     },
     "execution_count": 67,
     "metadata": {},
     "output_type": "execute_result"
    }
   ],
   "execution_count": 67
  },
  {
   "metadata": {},
   "cell_type": "markdown",
   "source": "Тут куча проблем из-за того, что маленький (почти ничтожный) корпус. Но это и видно по цифрам. Метод выдает синоним и косинусную меру (cosine similarity) близости.",
   "id": "d3ee7a9a6da15a86"
  },
  {
   "cell_type": "code",
   "source": "model.wv.most_similar(\"капитал\")",
   "metadata": {
    "collapsed": false,
    "ExecuteTime": {
     "end_time": "2024-04-12T16:37:54.816924Z",
     "start_time": "2024-04-12T16:37:54.798400Z"
    }
   },
   "id": "c7d5dd9647da3bf6",
   "outputs": [
    {
     "data": {
      "text/plain": [
       "[('капиталовложение', 0.4658592939376831),\n",
       " ('чистота', 0.3421204388141632),\n",
       " ('создание', 0.3293217420578003),\n",
       " ('вытеснить', 0.3263553977012634),\n",
       " ('попадание', 0.32500159740448),\n",
       " ('продажа', 0.3163697421550751),\n",
       " ('обрабатывать', 0.31310442090034485),\n",
       " ('производство', 0.31207454204559326),\n",
       " ('передел', 0.3022144138813019),\n",
       " ('сталь', 0.29675740003585815)]"
      ]
     },
     "execution_count": 68,
     "metadata": {},
     "output_type": "execute_result"
    }
   ],
   "execution_count": 68
  },
  {
   "metadata": {},
   "cell_type": "code",
   "outputs": [],
   "execution_count": null,
   "source": "",
   "id": "7f74b3f5840b41df"
  }
 ],
 "metadata": {
  "kernelspec": {
   "display_name": "Python 3",
   "language": "python",
   "name": "python3"
  },
  "language_info": {
   "codemirror_mode": {
    "name": "ipython",
    "version": 2
   },
   "file_extension": ".py",
   "mimetype": "text/x-python",
   "name": "python",
   "nbconvert_exporter": "python",
   "pygments_lexer": "ipython2",
   "version": "2.7.6"
  }
 },
 "nbformat": 4,
 "nbformat_minor": 5
}
